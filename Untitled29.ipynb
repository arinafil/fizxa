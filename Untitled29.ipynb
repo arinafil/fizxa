{
  "nbformat": 4,
  "nbformat_minor": 0,
  "metadata": {
    "colab": {
      "provenance": [],
      "authorship_tag": "ABX9TyN0H8lp0td50I3g5S4y4VI5",
      "include_colab_link": true
    },
    "kernelspec": {
      "name": "python3",
      "display_name": "Python 3"
    },
    "language_info": {
      "name": "python"
    }
  },
  "cells": [
    {
      "cell_type": "markdown",
      "metadata": {
        "id": "view-in-github",
        "colab_type": "text"
      },
      "source": [
        "<a href=\"https://colab.research.google.com/github/arinafil/fizxa/blob/main/Untitled29.ipynb\" target=\"_parent\"><img src=\"https://colab.research.google.com/assets/colab-badge.svg\" alt=\"Open In Colab\"/></a>"
      ]
    },
    {
      "cell_type": "code",
      "execution_count": null,
      "metadata": {
        "colab": {
          "base_uri": "https://localhost:8080/"
        },
        "id": "am4H7LZBhll9",
        "outputId": "2bcaba41-ef79-4386-ebfe-f8e507c84b10"
      },
      "outputs": [
        {
          "output_type": "execute_result",
          "data": {
            "text/plain": [
              "7"
            ]
          },
          "metadata": {},
          "execution_count": 3
        }
      ],
      "source": [
        "def upper_bound(arr:list, n:int,x: int):\n",
        "  l, r=0, n\n",
        "  while l < r:\n",
        "    mid=(l+r)//2\n",
        "    if arr[mid]<=x:\n",
        "      l=mid+1\n",
        "    else:\n",
        "      r=mid\n",
        "  return r\n",
        "\n",
        "arr=[1,2,2,3,4,5,5,6]\n",
        "x=5\n",
        "upper_bound(arr,len(arr),x)\n"
      ]
    },
    {
      "cell_type": "markdown",
      "source": [
        "Приближенный бинарный поиск\n",
        "Вам дан массив a\n",
        " размером N\n",
        " и массив b\n",
        " размером M\n",
        ". Для каждого числа массива b\n",
        " вам нужно найти ближайшее число из массива a\n",
        ". Если таких несколько, вывести меньшее.\n",
        "\n",
        "Входные данные\n",
        "В первой строке входных данных содержатся числа N\n",
        " и K\n",
        " (1≤N,K≤100000)\n",
        ". Во второй строке задаются N\n",
        " чисел массива a\n",
        ", отсортированного по неубыванию, а в третьей строке – K\n",
        " чисел массива b\n",
        ". Каждое число в обоих массивах по модулю не превосходит 2∗109\n",
        ".\n",
        "\n",
        "Выходные данные\n",
        "Для каждого из K\n",
        " чисел выведите в отдельную строку число из массива a\n",
        ", наиболее близкое к данному. Если таких несколько, выведите меньшее из них."
      ],
      "metadata": {
        "id": "9X5CyH1Kjh_U"
      }
    },
    {
      "cell_type": "code",
      "source": [],
      "metadata": {
        "id": "-UGis1XvjnYe"
      },
      "execution_count": null,
      "outputs": []
    },
    {
      "cell_type": "markdown",
      "source": [
        "**Монетка**\n",
        "У вас есть бесконечное количество монет номиналом от 1 до n . Вы хотите выбрать некоторый набор монет с суммой s . В наборе допускается наличие монет одного номинала. Какое минимальное количество монет нужно взять, чтобы получить сумму s .\n",
        "\n",
        "Входные данные\n",
        "Два целых числа n и s ( 1 ≤ n ≤ 10^5, 1 ≤ s ≤ 10^9).\n",
        "\n",
        "Выходные данные\n",
        "Выведите минимальное количество монет, необходимое для получения суммы s ."
      ],
      "metadata": {
        "id": "chQ1TbDbl74Z"
      }
    },
    {
      "cell_type": "code",
      "source": [
        "def coins(n:int, s:int):\n",
        "  count=0\n",
        "  while( n>=s ):\n",
        "    if n > s:\n",
        "      n=s\n",
        "    else:\n",
        "      a=s//n\n",
        "      s-= n*a\n",
        "      count+=a\n",
        "      n-=1\n",
        "  return count\n",
        "\n",
        "coins(6,16)\n"
      ],
      "metadata": {
        "colab": {
          "base_uri": "https://localhost:8080/"
        },
        "id": "dKMAfpvWmLmJ",
        "outputId": "a2679310-8343-4c30-e85c-d8168c8f4e4f"
      },
      "execution_count": null,
      "outputs": [
        {
          "output_type": "execute_result",
          "data": {
            "text/plain": [
              "0"
            ]
          },
          "metadata": {},
          "execution_count": 9
        }
      ]
    },
    {
      "cell_type": "markdown",
      "source": [
        "Колесо обозрения"
      ],
      "metadata": {
        "id": "-feOdawTp4ZQ"
      }
    },
    {
      "cell_type": "code",
      "source": [
        "def ferris_wheel(arr:int, n:int, x:int):\n",
        "  arr=sorted(arr)\n",
        "  l,r=0, n-1\n",
        "  count= 0\n",
        "  while l<=r:\n",
        "    if l==r:\n",
        "      pass\n",
        "    elif arr[l]+arr[r]<=x:\n",
        "      l+=1\n",
        "    count+=1\n",
        "    r-=1\n",
        "  return count\n",
        "arr=[7,2,3,9]\n",
        "ferris_wheel(arr, len(arr), 10)"
      ],
      "metadata": {
        "colab": {
          "base_uri": "https://localhost:8080/"
        },
        "id": "w5GO0WRdp6rL",
        "outputId": "c4f9dea2-11e1-4da2-8c46-29ef97098253"
      },
      "execution_count": 14,
      "outputs": [
        {
          "output_type": "execute_result",
          "data": {
            "text/plain": [
              "3"
            ]
          },
          "metadata": {},
          "execution_count": 14
        }
      ]
    },
    {
      "cell_type": "markdown",
      "source": [
        "**2.Бинарный поиск по ответу**\n"
      ],
      "metadata": {
        "id": "BgP3Uxhcq2Ft"
      }
    },
    {
      "cell_type": "code",
      "source": [
        "def bin_search_ans(w:int, h:int, n:int):\n",
        "  l=max(w, h)\n",
        "  r =l * n\n",
        "  while (l+1)<r :\n",
        "    mid=(r-l)//2\n",
        "    res=(mid//w)*(mid//h)\n",
        "  if res<n:\n",
        "    l=mid\n",
        "  else:\n",
        "    r=mid\n",
        "  return res\n",
        "\n",
        "bin_search_ans(3,4,9)"
      ],
      "metadata": {
        "id": "uGhJPe8fs1Vo",
        "colab": {
          "base_uri": "https://localhost:8080/",
          "height": 297
        },
        "outputId": "f5042cb5-7ad9-4d50-efed-3a35ca12d5d0"
      },
      "execution_count": 28,
      "outputs": [
        {
          "output_type": "error",
          "ename": "KeyboardInterrupt",
          "evalue": "",
          "traceback": [
            "\u001b[0;31m---------------------------------------------------------------------------\u001b[0m",
            "\u001b[0;31mKeyboardInterrupt\u001b[0m                         Traceback (most recent call last)",
            "\u001b[0;32m<ipython-input-28-0438de63f3a8>\u001b[0m in \u001b[0;36m<cell line: 13>\u001b[0;34m()\u001b[0m\n\u001b[1;32m     11\u001b[0m   \u001b[0;32mreturn\u001b[0m \u001b[0mres\u001b[0m\u001b[0;34m\u001b[0m\u001b[0;34m\u001b[0m\u001b[0m\n\u001b[1;32m     12\u001b[0m \u001b[0;34m\u001b[0m\u001b[0m\n\u001b[0;32m---> 13\u001b[0;31m \u001b[0mbin_search_ans\u001b[0m\u001b[0;34m(\u001b[0m\u001b[0;36m3\u001b[0m\u001b[0;34m,\u001b[0m\u001b[0;36m4\u001b[0m\u001b[0;34m,\u001b[0m\u001b[0;36m9\u001b[0m\u001b[0;34m)\u001b[0m\u001b[0;34m\u001b[0m\u001b[0;34m\u001b[0m\u001b[0m\n\u001b[0m",
            "\u001b[0;32m<ipython-input-28-0438de63f3a8>\u001b[0m in \u001b[0;36mbin_search_ans\u001b[0;34m(w, h, n)\u001b[0m\n\u001b[1;32m      2\u001b[0m   \u001b[0ml\u001b[0m\u001b[0;34m=\u001b[0m\u001b[0mmax\u001b[0m\u001b[0;34m(\u001b[0m\u001b[0mw\u001b[0m\u001b[0;34m,\u001b[0m \u001b[0mh\u001b[0m\u001b[0;34m)\u001b[0m\u001b[0;34m\u001b[0m\u001b[0;34m\u001b[0m\u001b[0m\n\u001b[1;32m      3\u001b[0m   \u001b[0mr\u001b[0m \u001b[0;34m=\u001b[0m\u001b[0ml\u001b[0m \u001b[0;34m*\u001b[0m \u001b[0mn\u001b[0m\u001b[0;34m\u001b[0m\u001b[0;34m\u001b[0m\u001b[0m\n\u001b[0;32m----> 4\u001b[0;31m   \u001b[0;32mwhile\u001b[0m \u001b[0;34m(\u001b[0m\u001b[0ml\u001b[0m\u001b[0;34m+\u001b[0m\u001b[0;36m1\u001b[0m\u001b[0;34m)\u001b[0m\u001b[0;34m<\u001b[0m\u001b[0mr\u001b[0m \u001b[0;34m:\u001b[0m\u001b[0;34m\u001b[0m\u001b[0;34m\u001b[0m\u001b[0m\n\u001b[0m\u001b[1;32m      5\u001b[0m     \u001b[0mmid\u001b[0m\u001b[0;34m=\u001b[0m\u001b[0;34m(\u001b[0m\u001b[0mr\u001b[0m\u001b[0;34m-\u001b[0m\u001b[0ml\u001b[0m\u001b[0;34m)\u001b[0m\u001b[0;34m//\u001b[0m\u001b[0;36m2\u001b[0m\u001b[0;34m\u001b[0m\u001b[0;34m\u001b[0m\u001b[0m\n\u001b[1;32m      6\u001b[0m     \u001b[0mres\u001b[0m\u001b[0;34m=\u001b[0m\u001b[0;34m(\u001b[0m\u001b[0mmid\u001b[0m\u001b[0;34m//\u001b[0m\u001b[0mw\u001b[0m\u001b[0;34m)\u001b[0m\u001b[0;34m*\u001b[0m\u001b[0;34m(\u001b[0m\u001b[0mmid\u001b[0m\u001b[0;34m//\u001b[0m\u001b[0mh\u001b[0m\u001b[0;34m)\u001b[0m\u001b[0;34m\u001b[0m\u001b[0;34m\u001b[0m\u001b[0m\n",
            "\u001b[0;31mKeyboardInterrupt\u001b[0m: "
          ]
        }
      ]
    },
    {
      "cell_type": "markdown",
      "source": [
        "**Динамическое программирование**\n",
        "1.количество траекторий Кузнечика\n"
      ],
      "metadata": {
        "id": "6JxwvOaay6O3"
      }
    },
    {
      "cell_type": "code",
      "source": [
        "def hopper(n):\n",
        "    a0 = 0\n",
        "    a1 = 1\n",
        "    if n==0:\n",
        "      return 0\n",
        "    if n==1:\n",
        "      return 1\n",
        "    else:\n",
        "      res=0\n",
        "      for _ in range(n):\n",
        "        res=a0+a1\n",
        "        a0,a1=a1,res\n",
        "    return res\n",
        "hopper(10)"
      ],
      "metadata": {
        "colab": {
          "base_uri": "https://localhost:8080/"
        },
        "id": "eplR_-zpzC0k",
        "outputId": "a47c7798-4780-4fe6-f8b7-42d5f6c3bf82"
      },
      "execution_count": 29,
      "outputs": [
        {
          "output_type": "execute_result",
          "data": {
            "text/plain": [
              "89"
            ]
          },
          "metadata": {},
          "execution_count": 29
        }
      ]
    },
    {
      "cell_type": "markdown",
      "source": [],
      "metadata": {
        "id": "cCDG1wIa3OMY"
      }
    },
    {
      "cell_type": "markdown",
      "source": [
        "У каждой клетки есть вес\n"
      ],
      "metadata": {
        "id": "Ex7qlXGl3OQl"
      }
    },
    {
      "cell_type": "code",
      "source": [
        "def hopper_min(values:list):\n",
        "  n=len(values)\n",
        "  res=0\n",
        "  a0=values[0]\n",
        "  a1=values[1]\n",
        "  for i in range(2,n):\n",
        "    res=values[i]+min(a0,a1)\n",
        "    a0,a1=a1,res\n",
        "  return res\n",
        "\n",
        "values=[3,4,2,5,1]\n",
        "hopper_min(values)\n"
      ],
      "metadata": {
        "colab": {
          "base_uri": "https://localhost:8080/"
        },
        "id": "9JCn8aKd3RQC",
        "outputId": "915671f4-f1de-4c95-a2ca-5376f0e509e1"
      },
      "execution_count": 30,
      "outputs": [
        {
          "output_type": "execute_result",
          "data": {
            "text/plain": [
              "6"
            ]
          },
          "metadata": {},
          "execution_count": 30
        }
      ]
    },
    {
      "cell_type": "code",
      "source": [
        "# восстановим траекторию кузнечика\n",
        "def hopper_min(values:list):\n",
        "  n=len(values)\n",
        "  res=[0]*n\n",
        "  res[0]=values[0]\n",
        "  res[1]=values[1]\n",
        "  for i in range(2,n):\n",
        "    res[i]=values[i]+min(res[i-1],res[i-2])\n",
        "  return res\n",
        "\n",
        "def min_trajectory(lst:list):\n",
        "  n=len(lst)\n",
        "  ans=[n-1]\n",
        "  i=n-1\n",
        "  while i>0:\n",
        "    ind=1 if lst[i-1]==min(lst[i-1], lst[i-2]) else i-2\n",
        "    ans.append(ind)\n",
        "    i-=1 if ind==1 else 2\n",
        "  return ans[::-1]\n",
        "\n",
        "values=[3,4,2,5,1]\n",
        "res=hopper_min(values)\n",
        "min_trajectory(res)"
      ],
      "metadata": {
        "colab": {
          "base_uri": "https://localhost:8080/"
        },
        "id": "l00_ph4Y5xyM",
        "outputId": "5a36ca18-fed7-4922-e2e8-1858ee5f13ee"
      },
      "execution_count": 37,
      "outputs": [
        {
          "output_type": "execute_result",
          "data": {
            "text/plain": [
              "[0, 2, 4]"
            ]
          },
          "metadata": {},
          "execution_count": 37
        }
      ]
    },
    {
      "cell_type": "markdown",
      "source": [
        "Рюкзак(жадно)"
      ],
      "metadata": {
        "id": "nFF6e-S79OVW"
      }
    },
    {
      "cell_type": "code",
      "source": [
        "def knapsack(arr:list,x:int):\n",
        "\n",
        "arr =[(7,1),(2,5),(3,3),(1,2)]\n",
        "x=10"
      ],
      "metadata": {
        "id": "aiWVN7uH9Rl1"
      },
      "execution_count": null,
      "outputs": []
    }
  ]
}