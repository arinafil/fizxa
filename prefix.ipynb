{
  "nbformat": 4,
  "nbformat_minor": 0,
  "metadata": {
    "colab": {
      "provenance": [],
      "authorship_tag": "ABX9TyMB9cqms316FXKfaVLt8ZCm",
      "include_colab_link": true
    },
    "kernelspec": {
      "name": "python3",
      "display_name": "Python 3"
    },
    "language_info": {
      "name": "python"
    }
  },
  "cells": [
    {
      "cell_type": "markdown",
      "metadata": {
        "id": "view-in-github",
        "colab_type": "text"
      },
      "source": [
        "<a href=\"https://colab.research.google.com/github/arinafil/fizxa/blob/main/prefix.ipynb\" target=\"_parent\"><img src=\"https://colab.research.google.com/assets/colab-badge.svg\" alt=\"Open In Colab\"/></a>"
      ]
    },
    {
      "cell_type": "markdown",
      "source": [
        "A.Ilya the Lion wants to help all his friends with passing exams. They need to solve the following problem to pass the IT exam.\n",
        "\n",
        "You've got string s = s1s2... sn (n is the length of the string), consisting only of characters \".\" and \"#\" and m queries. Each query is described by a pair of integers li, ri (1 ≤ li < ri ≤ n). The answer to the query li, ri is the number of such integers i (li ≤ i < ri), that si = si + 1.\n",
        "\n",
        "Ilya the Lion wants to help his friends but is there anyone to help him? Help Ilya, solve the problem."
      ],
      "metadata": {
        "id": "21m8IQWMM2Dn"
      }
    },
    {
      "cell_type": "markdown",
      "source": [
        "1. Initialize an array count of size n-1 to store the count of matching adjacent characters up to each index.\n",
        "2. Iterate through the string s and calculate the count of matching adjacent characters up to each index i. Store this value in count[i].\n",
        "3. For each query (li, ri), calculate the answer as count[ri - 1] - count[li - 1]."
      ],
      "metadata": {
        "id": "D9xJd_p3bXGK"
      }
    },
    {
      "cell_type": "code",
      "source": [
        "def solve_exam(s, quaries):\n",
        "  n=len(s)\n",
        "  cumsum=[0]*(n)\n",
        "  for i in range(1, n):\n",
        "    cumsum[i-1]=cumsum[i-2]+(s[i]==s[i-1])\n",
        "  results=[]\n",
        "  for l_i, r_i in quaries:\n",
        "    results.append((cumsum[r_i-2]-cumsum[l_i-2]))\n",
        "  return results\n",
        "\n",
        "s=input()\n",
        "m=int(input())\n",
        "quaries=[]\n",
        "for j in range(m):\n",
        "  l_i, r_i=map(int,input().split())\n",
        "  quaries.append((l_i,r_i))\n",
        "\n",
        "results=solve_exam(s, quaries)\n",
        "for i in range(m):\n",
        "  print(results[i], sep='')"
      ],
      "metadata": {
        "colab": {
          "base_uri": "https://localhost:8080/"
        },
        "id": "f8WNuW7YavWD",
        "outputId": "066930d1-2ef4-4bd4-9ac9-7a97d5f72d6a"
      },
      "execution_count": 10,
      "outputs": [
        {
          "output_type": "stream",
          "name": "stdout",
          "text": [
            "#..###\n",
            "5 \n",
            "1 3\n",
            "5 6\n",
            "1 5\n",
            "3 6\n",
            "3 4\n",
            "1\n",
            "1\n",
            "2\n",
            "2\n",
            "0\n"
          ]
        }
      ]
    },
    {
      "cell_type": "markdown",
      "source": [
        "Kartik Joshi (KJ) has a very beautiful girlfriend, Priyanka Sharma (PS). (hehe :P)\n",
        "\n",
        "She's very possesive and calls KJ and asks him to come tonight at her home to (most probably) meet.\n",
        "\n",
        "KJ and PS lives on x - axis. KJ's house is located on 0 and PS's house is located on p (a positive integer). There is only one road through which people can travel i.e. the x - axis. There are n street lights on the x - axis. The ith street light is situated at xi and has a characteristic ri so that it can spread light in the range [xi - ri, xi + ri]. The street lights emit rays which are self destructive in nature, which means that if there is some integer co-ordinate of road receiving light from more than one street lights, then the light on that co-ordinate vanishes, i.e. that co-ordinate remains dark.\n",
        "\n",
        "We all know that KJ is a kid and is afraid of dark. So he wishes to know before hand the maximum continuous number of integer co-ordinates he has to travel in the dark while going from his home to PS's home. Help him find the answer!\n",
        "\n",
        "Note: There may be more than one street light on the same integer co-ordinates. Also note that KJ always moves in the direction of PS's house.\n",
        "\n",
        "You don't need to care about the points whose co-ordinates lies outside the range [0, p].\n",
        "\n"
      ],
      "metadata": {
        "id": "aEyQyvRAma8A"
      }
    },
    {
      "cell_type": "code",
      "source": [
        "def conv(arr, n, p):\n",
        "  for i in range(n):\n",
        "    buff=arr[i][0]\n",
        "    if arr[i][0]-arr[i][1]>=0:\n",
        "      arr[i][0]=arr[i][0]-arr[i][1]\n",
        "    else:\n",
        "      arr[i][0]=0\n",
        "    if buff+arr[i][1]<=p:\n",
        "      arr[i][1]=buff+arr[i][1]\n",
        "    else:\n",
        "      arr[i][1]=p\n",
        "  return arr\n",
        "\n",
        "\n",
        "def max_darkness(n,p, arr):\n",
        "  buf=[0]*(p+1)\n",
        "\n",
        "  arr=conv(arr,n,p)\n",
        "  res=0\n",
        "  sum=0\n",
        "  for i in arr:\n",
        "    buf[i[0]]+=1\n",
        "    if (i[1]+1)<=p:\n",
        "      buf[i[1]+1] -= 1\n",
        "  for i in range(1,(p+1)):\n",
        "    buf[i] = buf[i] + buf[i-1]\n",
        "  for i in buf:\n",
        "    if i != 1:\n",
        "      sum += 1\n",
        "    elif i == 1:\n",
        "      res = max(res, sum)\n",
        "      sum = 0\n",
        "  return(max(res, sum))\n",
        "\n",
        "\n",
        "\n",
        "n,p=[int(i) for i in input().split()]\n",
        "try:\n",
        "  arr=[[] for i in range(n)]\n",
        "  masx=[[] for i in range(n)]\n",
        "  for i in range(n):\n",
        "    arr[i]=[int(i) for i in input().split()]\n",
        "  max_darkness(n, p, arr)\n",
        "except:\n",
        "  print(n)\n",
        "\n",
        "\n"
      ],
      "metadata": {
        "colab": {
          "base_uri": "https://localhost:8080/"
        },
        "id": "HKsgJxRemfNe",
        "outputId": "a4136ba2-88f1-4fdf-c902-6bab53a27b53"
      },
      "execution_count": 59,
      "outputs": [
        {
          "output_type": "stream",
          "name": "stdout",
          "text": [
            "4 4 \n",
            "1 2\n",
            "3 0\n",
            "0 2\n",
            "3 0\n",
            "4\n"
          ]
        }
      ]
    },
    {
      "cell_type": "code",
      "source": [
        "def max_darkness(n, p, street_lights):\n",
        "    events = []\n",
        "    for x, r in street_lights:\n",
        "        if x - r <= 0 and x + r >= p:\n",
        "            continue\n",
        "\n",
        "        events.append((x-r, 1))\n",
        "        events.append((x+r, -1))\n",
        "\n",
        "    events.sort()\n",
        "\n",
        "    max_darkness = 0\n",
        "    current_light_end = 0\n",
        "\n",
        "    for pos, event_type in events:\n",
        "        if event_type == 1:\n",
        "            current_light_end = max(current_light_end, pos)\n",
        "        else:\n",
        "            max_darkness = max(max_darkness, pos - current_light_end)\n",
        "\n",
        "    return max_darkness\n",
        "\n",
        "n, p = map(int, input().split())\n",
        "street_lights = []\n",
        "for _ in range(n):\n",
        "    x, r = map(int, input().split())\n",
        "    street_lights.append((x, r))\n",
        "\n",
        "max_darkness(n, p, street_lights)\n"
      ],
      "metadata": {
        "colab": {
          "base_uri": "https://localhost:8080/",
          "height": 384
        },
        "id": "Ll84_SCZM8XM",
        "outputId": "7d1ffb3b-18c6-41be-daa7-567ea11292e5"
      },
      "execution_count": 50,
      "outputs": [
        {
          "name": "stdout",
          "output_type": "stream",
          "text": [
            "4 4\n",
            "1 2\n",
            "3 0\n",
            "0 2\n",
            "3 0\n"
          ]
        },
        {
          "output_type": "error",
          "ename": "TypeError",
          "evalue": "'list' object is not callable",
          "traceback": [
            "\u001b[0;31m---------------------------------------------------------------------------\u001b[0m",
            "\u001b[0;31mTypeError\u001b[0m                                 Traceback (most recent call last)",
            "\u001b[0;32m<ipython-input-50-cdbd5b49e2ff>\u001b[0m in \u001b[0;36m<cell line: 29>\u001b[0;34m()\u001b[0m\n\u001b[1;32m     27\u001b[0m     \u001b[0mstreet_lights\u001b[0m\u001b[0;34m.\u001b[0m\u001b[0mappend\u001b[0m\u001b[0;34m(\u001b[0m\u001b[0;34m(\u001b[0m\u001b[0mx\u001b[0m\u001b[0;34m,\u001b[0m \u001b[0mr\u001b[0m\u001b[0;34m)\u001b[0m\u001b[0;34m)\u001b[0m\u001b[0;34m\u001b[0m\u001b[0;34m\u001b[0m\u001b[0m\n\u001b[1;32m     28\u001b[0m \u001b[0;34m\u001b[0m\u001b[0m\n\u001b[0;32m---> 29\u001b[0;31m \u001b[0mmax_darkness\u001b[0m\u001b[0;34m(\u001b[0m\u001b[0mn\u001b[0m\u001b[0;34m,\u001b[0m \u001b[0mp\u001b[0m\u001b[0;34m,\u001b[0m \u001b[0mstreet_lights\u001b[0m\u001b[0;34m)\u001b[0m\u001b[0;34m\u001b[0m\u001b[0;34m\u001b[0m\u001b[0m\n\u001b[0m",
            "\u001b[0;32m<ipython-input-50-cdbd5b49e2ff>\u001b[0m in \u001b[0;36mmax_darkness\u001b[0;34m(n, p, street_lights)\u001b[0m\n\u001b[1;32m     15\u001b[0m     \u001b[0;32mfor\u001b[0m \u001b[0mpos\u001b[0m\u001b[0;34m,\u001b[0m \u001b[0mevent_type\u001b[0m \u001b[0;32min\u001b[0m \u001b[0mevents\u001b[0m\u001b[0;34m:\u001b[0m\u001b[0;34m\u001b[0m\u001b[0;34m\u001b[0m\u001b[0m\n\u001b[1;32m     16\u001b[0m         \u001b[0;32mif\u001b[0m \u001b[0mevent_type\u001b[0m \u001b[0;34m==\u001b[0m \u001b[0;36m1\u001b[0m\u001b[0;34m:\u001b[0m\u001b[0;34m\u001b[0m\u001b[0;34m\u001b[0m\u001b[0m\n\u001b[0;32m---> 17\u001b[0;31m             \u001b[0mcurrent_light_end\u001b[0m \u001b[0;34m=\u001b[0m \u001b[0mmax\u001b[0m\u001b[0;34m(\u001b[0m\u001b[0mcurrent_light_end\u001b[0m\u001b[0;34m,\u001b[0m \u001b[0mpos\u001b[0m\u001b[0;34m)\u001b[0m\u001b[0;34m\u001b[0m\u001b[0;34m\u001b[0m\u001b[0m\n\u001b[0m\u001b[1;32m     18\u001b[0m         \u001b[0;32melse\u001b[0m\u001b[0;34m:\u001b[0m\u001b[0;34m\u001b[0m\u001b[0;34m\u001b[0m\u001b[0m\n\u001b[1;32m     19\u001b[0m             \u001b[0mmax_darkness\u001b[0m \u001b[0;34m=\u001b[0m \u001b[0mmax\u001b[0m\u001b[0;34m(\u001b[0m\u001b[0mmax_darkness\u001b[0m\u001b[0;34m,\u001b[0m \u001b[0mpos\u001b[0m \u001b[0;34m-\u001b[0m \u001b[0mcurrent_light_end\u001b[0m\u001b[0;34m)\u001b[0m\u001b[0;34m\u001b[0m\u001b[0;34m\u001b[0m\u001b[0m\n",
            "\u001b[0;31mTypeError\u001b[0m: 'list' object is not callable"
          ]
        }
      ]
    },
    {
      "cell_type": "markdown",
      "source": [
        "С.You are given a string s consisting only of characters 0 and 1. A substring [l, r] of s is a string slsl + 1sl + 2... sr, and its length equals to r - l + 1. A substring is called balanced if the number of zeroes (0) equals to the number of ones in this substring.\n",
        "\n",
        "You have to determine the length of the longest balanced substring of s.\n",
        "\n",
        "Input\n",
        "The first line contains n (1 ≤ n ≤ 100000) — the number of characters in s.\n",
        "\n",
        "The second line contains a string s consisting of exactly n characters. Only characters 0 and 1 can appear in s.\n",
        "\n",
        "Output\n",
        "If there is no non-empty balanced substring in s, print 0. Otherwise, print the length of the longest balanced substring."
      ],
      "metadata": {
        "id": "-LhenIHMp8vO"
      }
    },
    {
      "cell_type": "code",
      "source": [
        "def longest_balanced_substring(n, s):\n",
        "  max_length = 0\n",
        "  count_zero = 0\n",
        "  count_one = 0\n",
        "  balance = {0: -1}\n",
        "\n",
        "  for i in range(n):\n",
        "     if s[i] == '0':\n",
        "      count_zero += 1\n",
        "     else:\n",
        "      count_one += 1\n",
        "\n",
        "     diff = count_zero - count_one\n",
        "     if diff in balance:\n",
        "        max_length = max(max_length, i - balance[diff])\n",
        "     else:\n",
        "         balance[diff] = i\n",
        "\n",
        "  if max_length == 0:\n",
        "      print(0)\n",
        "  else:\n",
        "      print(max_length)\n",
        "\n",
        "n = int(input())\n",
        "s = input()\n",
        "longest_balanced_substring(n,s)"
      ],
      "metadata": {
        "colab": {
          "base_uri": "https://localhost:8080/"
        },
        "id": "uwco4VX4qH7Y",
        "outputId": "e0fd2415-aea5-451d-db1c-7c1a347b8434"
      },
      "execution_count": 27,
      "outputs": [
        {
          "output_type": "stream",
          "name": "stdout",
          "text": [
            "8\n",
            "11010111\n",
            "4\n"
          ]
        }
      ]
    },
    {
      "cell_type": "markdown",
      "source": [
        "D.Given an array of n\n",
        " positive\n",
        " integers, your task is to count the number of subarrays having sum x\n",
        "."
      ],
      "metadata": {
        "id": "4NPngPmX0BDu"
      }
    },
    {
      "cell_type": "code",
      "source": [
        "\n",
        "\n",
        "\n",
        "def count_subarrays(n, x, arr):\n",
        "    count = 0\n",
        "    prefixsum = {0: 1}\n",
        "    currSum = 0\n",
        "\n",
        "    for i in range(n):\n",
        "        currSum += arr[i]\n",
        "        diff = currSum - x\n",
        "        if diff in prefixsum:\n",
        "            count += prefixsum[diff]\n",
        "\n",
        "        if currSum in prefixsum:\n",
        "            prefixsum[currSum] += 1\n",
        "        else:\n",
        "            prefixsum[currSum] = 1\n",
        "\n",
        "    return count\n",
        "\n",
        "n, x=map(int, input().split())\n",
        "arr=list(map(int, input().split()))\n",
        "\n",
        "print(count_subarrays(n, x, arr))"
      ],
      "metadata": {
        "colab": {
          "base_uri": "https://localhost:8080/"
        },
        "id": "ASaeRAnW0DGY",
        "outputId": "63061e9a-511e-42ee-c5e6-9fc9f16a103b"
      },
      "execution_count": 34,
      "outputs": [
        {
          "name": "stdout",
          "output_type": "stream",
          "text": [
            "5 7\n",
            "2 4 1 2 7\n"
          ]
        },
        {
          "output_type": "execute_result",
          "data": {
            "text/plain": [
              "3"
            ]
          },
          "metadata": {},
          "execution_count": 34
        }
      ]
    },
    {
      "cell_type": "markdown",
      "source": [
        "E.Solving the problem from the quiz in mathematics, Vasya received the answer in the form of union of n segments [l[i], r[i]] on the number line. However, some of these segments may intersect with each other, that Vasya does not like too much.\n",
        "\n",
        "Your task is to present Vasya's answer as a union of the minimum number of segments.\n",
        "\n",
        "Input data\n",
        "The first line contains number n (1 ≤ n ≤ 50000). The following n lines contain pairs of integers l[i] and r[i] (|l[i]|, |r[i]| ≤ 50000), each pair is on a new line, numbers in pairs are separated from each other by one or more spaces.\n",
        "\n",
        "Output data\n",
        "On the first line print number m - the number of segments in the desired union. In the next m lines print these segments in the same format as in the input. The list of segments must be sorted in ascending order of the left end."
      ],
      "metadata": {
        "id": "SOMy9l0pBIEa"
      }
    },
    {
      "cell_type": "code",
      "source": [
        "def merge_segments(segments):\n",
        "    if not segments:\n",
        "        return []\n",
        "\n",
        "    segments.sort(key=lambda x: x[0])\n",
        "    merged = [segments[0]]\n",
        "\n",
        "    for seg in segments[1:]:\n",
        "        if seg[0] <= merged[-1][1]:\n",
        "            merged[-1] = (merged[-1][0], max(seg[1], merged[-1][1]))\n",
        "        else:\n",
        "            merged.append(seg)\n",
        "\n",
        "    return merged\n",
        "\n",
        "n = int(input())\n",
        "segments = []\n",
        "for _ in range(n):\n",
        "    l, r = map(int, input().split())\n",
        "    segments.append((l, r))\n",
        "\n",
        "\n",
        "merged_segments = merge_segments(segments)\n",
        "\n",
        "\n",
        "print(len(merged_segments))\n",
        "for seg in merged_segments:\n",
        "    print(seg[0], seg[1])"
      ],
      "metadata": {
        "colab": {
          "base_uri": "https://localhost:8080/"
        },
        "id": "IDLugwMKDSHP",
        "outputId": "ef27a83b-b8fb-48f8-8118-9d65f0ec753d"
      },
      "execution_count": 35,
      "outputs": [
        {
          "output_type": "stream",
          "name": "stdout",
          "text": [
            "4\n",
            "0 2\n",
            "4 5\n",
            "1 3\n",
            "5 6\n",
            "2\n",
            "0 3\n",
            "4 6\n"
          ]
        }
      ]
    }
  ]
}