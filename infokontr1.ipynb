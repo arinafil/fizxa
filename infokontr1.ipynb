{
  "cells": [
    {
      "cell_type": "markdown",
      "metadata": {
        "id": "view-in-github",
        "colab_type": "text"
      },
      "source": [
        "<a href=\"https://colab.research.google.com/github/arinafil/fizxa/blob/main/infokontr1.ipynb\" target=\"_parent\"><img src=\"https://colab.research.google.com/assets/colab-badge.svg\" alt=\"Open In Colab\"/></a>"
      ]
    },
    {
      "cell_type": "code",
      "execution_count": null,
      "id": "3b7789d7-0503-4f90-8d92-cbb4030c9c09",
      "metadata": {
        "tags": [],
        "id": "3b7789d7-0503-4f90-8d92-cbb4030c9c09",
        "outputId": "bb0e8111-ec77-4308-ba81-ad814eda52c9"
      },
      "outputs": [
        {
          "name": "stdin",
          "output_type": "stream",
          "text": [
            " -850 -849\n"
          ]
        },
        {
          "name": "stdout",
          "output_type": "stream",
          "text": [
            "-1699,-1\n"
          ]
        }
      ],
      "source": [
        "#1 задача\n",
        "numbers = list(map(int, input().split()))\n",
        "numbers\n",
        "print(numbers[0] + numbers[-1], numbers[0] - numbers[-1], sep = ',')\n"
      ]
    },
    {
      "cell_type": "code",
      "source": [
        "a=int(input())\n",
        "b=int(input())\n",
        "c=int(input())\n",
        "d=int(input())\n",
        "x=int(input())\n",
        "if (x==b-a and x!=d/c) or (x==d/c and x!=b-a):\n",
        "  print(int(4))\n",
        "elif x==b-a and x==d/c:\n",
        "  print(int(5))\n",
        "elif x==1024:\n",
        "  print(int(3))\n",
        "else:\n",
        "  print(int(2))"
      ],
      "metadata": {
        "id": "8on4CGDTejYW"
      },
      "id": "8on4CGDTejYW",
      "execution_count": null,
      "outputs": []
    },
    {
      "cell_type": "code",
      "source": [
        "x"
      ],
      "metadata": {
        "id": "yCgbxgU5iptd"
      },
      "id": "yCgbxgU5iptd",
      "execution_count": null,
      "outputs": []
    },
    {
      "cell_type": "code",
      "source": [
        "x, y = input().split()\n",
        "x=int(x)\n",
        "y=int(y)\n",
        "\n",
        "print(x + y, x-y, sep=',')"
      ],
      "metadata": {
        "colab": {
          "base_uri": "https://localhost:8080/"
        },
        "id": "QS08UcDG8SpP",
        "outputId": "50e770e5-5579-443e-c038-16c2f2589bfc"
      },
      "id": "QS08UcDG8SpP",
      "execution_count": null,
      "outputs": [
        {
          "output_type": "stream",
          "name": "stdout",
          "text": [
            "-850 -849\n",
            "-1699,-1\n"
          ]
        }
      ]
    },
    {
      "cell_type": "code",
      "execution_count": null,
      "id": "ba984bb5-c8ab-4ca5-89c8-131fe8378497",
      "metadata": {
        "tags": [],
        "colab": {
          "base_uri": "https://localhost:8080/"
        },
        "id": "ba984bb5-c8ab-4ca5-89c8-131fe8378497",
        "outputId": "4a0fbc98-cfce-40a8-f95d-227cb0116e5f"
      },
      "outputs": [
        {
          "output_type": "stream",
          "name": "stdout",
          "text": [
            "2\n",
            "1\n",
            "5\n",
            "4\n",
            "YES\n"
          ]
        }
      ],
      "source": [
        "#2 задача\n",
        "xuy = []\n",
        "for i in range(4):\n",
        "    n = int(input())\n",
        "    xuy.append(n)\n",
        "x1, y1 = xuy[0], xuy[1]\n",
        "x2, y2 = xuy[2], xuy[3]\n",
        "if x1 == x2 or y1 == y2 or abs(x1-x2) == abs(y1-y2):\n",
        "    print('YES')\n",
        "else:\n",
        "    print('NO')"
      ]
    },
    {
      "cell_type": "code",
      "source": [
        "from os import execlp\n",
        "stol1 = int(input())\n",
        "str1 = int(input())\n",
        "stol2 = int(input())\n",
        "str2 = int(input())\n",
        "if stol1 - stol2 == 1 and (str1 - str2 == 1 or str1 - str2 == 0 or str2 - str1 == 1):\n",
        "    print(\"YES\")\n",
        "\n",
        "elif stol1 - stol2 == 0 and (str1 - str2 == 1 or str2 - str1 == 1):\n",
        "     print(\"YES\")\n",
        "\n",
        "elif stol2 - stol1 == 1 and (str1 - str2 == 1 or str1 - str2 == 0 or str2 - str1 == 1):\n",
        "    print(\"YES\")\n",
        "\n",
        "else:\n",
        "  print(\"NO\")"
      ],
      "metadata": {
        "colab": {
          "base_uri": "https://localhost:8080/"
        },
        "id": "87x9Ia0AAGEc",
        "outputId": "d7a86dfe-94e1-4f9e-d0fc-6373dfa584a2"
      },
      "id": "87x9Ia0AAGEc",
      "execution_count": null,
      "outputs": [
        {
          "output_type": "stream",
          "name": "stdout",
          "text": [
            "2\n",
            "1\n",
            "5\n",
            "4\n",
            "NO\n"
          ]
        }
      ]
    },
    {
      "cell_type": "code",
      "source": [
        "stol1 = int(input())\n",
        "str1 = int(input())\n",
        "stol2 = int(input())\n",
        "str2 = int(input())\n",
        "if (str2-str1)**2==(stol2-stol1)**2:\n",
        "  print('YES')\n",
        "else:\n",
        "  print('NO')"
      ],
      "metadata": {
        "id": "bQIsMp29j1Sp"
      },
      "id": "bQIsMp29j1Sp",
      "execution_count": null,
      "outputs": []
    },
    {
      "cell_type": "code",
      "source": [],
      "metadata": {
        "id": "UXDIMNOUku80"
      },
      "id": "UXDIMNOUku80",
      "execution_count": null,
      "outputs": []
    },
    {
      "cell_type": "code",
      "execution_count": null,
      "id": "42c59ec8-3326-4e77-a063-76e93cb14df3",
      "metadata": {
        "colab": {
          "base_uri": "https://localhost:8080/"
        },
        "id": "42c59ec8-3326-4e77-a063-76e93cb14df3",
        "outputId": "40b23776-ebee-438c-ea83-f713e005e879"
      },
      "outputs": [
        {
          "output_type": "stream",
          "name": "stdout",
          "text": [
            "3\n",
            "1 0 0\n",
            "0 1 1\n",
            "0 0 3\n",
            "5\n"
          ]
        }
      ],
      "source": [
        "#3 задача\n",
        "n = int(input())\n",
        "tr = 0\n",
        "for i in range(n):\n",
        "    a = list(map(int, input().split()))\n",
        "    tr += a[i]\n",
        "print(tr)"
      ]
    },
    {
      "cell_type": "code",
      "source": [
        "n = int(input())\n",
        "tr = int(0)\n",
        "for i in range(0, n, 1):\n",
        "    s = input()\n",
        "    arr = s.split()\n",
        "    #print(arr)\n",
        "    tr+= int(arr[i])\n",
        "print(tr)\n"
      ],
      "metadata": {
        "id": "dv6W4BTvCxzI"
      },
      "id": "dv6W4BTvCxzI",
      "execution_count": null,
      "outputs": []
    },
    {
      "cell_type": "code",
      "source": [
        "N=int(input())\n",
        "print('#'*(13*N +1))\n",
        "for i in range(1, N+1):\n",
        "  print('#', end=' ')\n",
        "  for j in range(1,N):\n",
        "    print(f'{i} x {j} = {i*j if i*j>=10 else \"0\" + f\"{i*j}\"}', end='|')\n",
        "  print(f'{i} x {N} = {i*N if i*N>=10 else \"0\" + f\"{i*N}\"}', end=' #\\n')\n",
        "print('#'*(13*N + 1))"
      ],
      "metadata": {
        "id": "H_DTUBOZrtww"
      },
      "id": "H_DTUBOZrtww",
      "execution_count": null,
      "outputs": []
    },
    {
      "cell_type": "code",
      "execution_count": null,
      "id": "3cd249a6-5def-4f8d-9eb4-3a72f2cec0cf",
      "metadata": {
        "colab": {
          "base_uri": "https://localhost:8080/"
        },
        "id": "3cd249a6-5def-4f8d-9eb4-3a72f2cec0cf",
        "outputId": "fa914932-2001-4d2b-a210-66887d3e8ea8"
      },
      "outputs": [
        {
          "output_type": "stream",
          "name": "stdout",
          "text": [
            "1\n",
            "2\n",
            "3\n",
            "4\n",
            "5\n",
            "6\n",
            "#\n",
            "3.5 6 1 3\n"
          ]
        }
      ],
      "source": [
        "#4 задача\n",
        "A = []\n",
        "while True:\n",
        "    a = input()\n",
        "    if a != '#':\n",
        "        A.append(int(a))\n",
        "    else:\n",
        "        break\n",
        "mean = round(sum(A)/len(A), 3)\n",
        "sup = max(A)\n",
        "inf = min(A)\n",
        "A_3 = [(A[i] + A[i+1] + A[i+2]) % A[i+2] for i in range(0, len(A), 3)]\n",
        "print(mean, sup, inf, sum(A_3))\n",
        "\n"
      ]
    },
    {
      "cell_type": "code",
      "source": [
        "A=[]\n",
        "while True:\n",
        "  a=int(input())\n",
        "  while a!='#':\n",
        "    A.append(a)\n",
        "mean = round(sum(A)/len(A), 3)\n",
        "sup = max(A)\n",
        "inf = min(A)\n",
        "A_3 = [(A[i] + A[i+1] + A[i+2]) % A[i+2] for i in range(0, len(A), 3)]\n",
        "print(mean, sup, inf, sum(A_3))\n"
      ],
      "metadata": {
        "colab": {
          "base_uri": "https://localhost:8080/",
          "height": 228
        },
        "id": "XJJOQ_PsGoEi",
        "outputId": "434cf10f-5b15-48b1-e26b-bcf9e6057a3b"
      },
      "id": "XJJOQ_PsGoEi",
      "execution_count": null,
      "outputs": [
        {
          "name": "stdout",
          "output_type": "stream",
          "text": [
            "1\n"
          ]
        },
        {
          "output_type": "error",
          "ename": "KeyboardInterrupt",
          "evalue": "",
          "traceback": [
            "\u001b[0;31m---------------------------------------------------------------------------\u001b[0m",
            "\u001b[0;31mKeyboardInterrupt\u001b[0m                         Traceback (most recent call last)",
            "\u001b[0;32m<ipython-input-15-e1d747579c45>\u001b[0m in \u001b[0;36m<cell line: 2>\u001b[0;34m()\u001b[0m\n\u001b[1;32m      3\u001b[0m   \u001b[0ma\u001b[0m\u001b[0;34m=\u001b[0m\u001b[0mint\u001b[0m\u001b[0;34m(\u001b[0m\u001b[0minput\u001b[0m\u001b[0;34m(\u001b[0m\u001b[0;34m)\u001b[0m\u001b[0;34m)\u001b[0m\u001b[0;34m\u001b[0m\u001b[0;34m\u001b[0m\u001b[0m\n\u001b[1;32m      4\u001b[0m   \u001b[0;32mwhile\u001b[0m \u001b[0ma\u001b[0m\u001b[0;34m!=\u001b[0m\u001b[0;34m'#'\u001b[0m\u001b[0;34m:\u001b[0m\u001b[0;34m\u001b[0m\u001b[0;34m\u001b[0m\u001b[0m\n\u001b[0;32m----> 5\u001b[0;31m     \u001b[0mA\u001b[0m\u001b[0;34m.\u001b[0m\u001b[0mappend\u001b[0m\u001b[0;34m(\u001b[0m\u001b[0ma\u001b[0m\u001b[0;34m)\u001b[0m\u001b[0;34m\u001b[0m\u001b[0;34m\u001b[0m\u001b[0m\n\u001b[0m\u001b[1;32m      6\u001b[0m \u001b[0mmean\u001b[0m \u001b[0;34m=\u001b[0m \u001b[0mround\u001b[0m\u001b[0;34m(\u001b[0m\u001b[0msum\u001b[0m\u001b[0;34m(\u001b[0m\u001b[0mA\u001b[0m\u001b[0;34m)\u001b[0m\u001b[0;34m/\u001b[0m\u001b[0mlen\u001b[0m\u001b[0;34m(\u001b[0m\u001b[0mA\u001b[0m\u001b[0;34m)\u001b[0m\u001b[0;34m,\u001b[0m \u001b[0;36m3\u001b[0m\u001b[0;34m)\u001b[0m\u001b[0;34m\u001b[0m\u001b[0;34m\u001b[0m\u001b[0m\n\u001b[1;32m      7\u001b[0m \u001b[0msup\u001b[0m \u001b[0;34m=\u001b[0m \u001b[0mmax\u001b[0m\u001b[0;34m(\u001b[0m\u001b[0mA\u001b[0m\u001b[0;34m)\u001b[0m\u001b[0;34m\u001b[0m\u001b[0;34m\u001b[0m\u001b[0m\n",
            "\u001b[0;31mKeyboardInterrupt\u001b[0m: "
          ]
        }
      ]
    },
    {
      "cell_type": "code",
      "source": [
        "def move( dir, n, x, y):\n",
        "  if dir=='left':\n",
        "    x-=int(n)\n",
        "  elif dir=='right':\n",
        "    x+=int(n)\n",
        "  elif dir=='top':\n",
        "    y+=int(n)\n",
        "  elif dir=='down':\n",
        "    y-=int(n)\n",
        "  return x, y\n",
        "\n",
        "x,y=map(int, input().split())\n",
        "string=input()\n",
        "while string!='stop':\n",
        "  dir,n = string.split()\n",
        "  t=move(dir,n, x, y)\n",
        "  x=t[0]\n",
        "  y=t[1]\n",
        "  string=input()\n",
        "print(x,y, sep=' ')"
      ],
      "metadata": {
        "id": "5aT56-PLntgV"
      },
      "id": "5aT56-PLntgV",
      "execution_count": null,
      "outputs": []
    },
    {
      "cell_type": "code",
      "execution_count": null,
      "id": "9f6bfcea-6d76-4333-84ae-5b5ca93fb641",
      "metadata": {
        "tags": [],
        "id": "9f6bfcea-6d76-4333-84ae-5b5ca93fb641",
        "outputId": "3b0e5956-e239-499d-ea8f-123712c3fdfa"
      },
      "outputs": [
        {
          "name": "stdin",
          "output_type": "stream",
          "text": [
            " 1\n",
            " 2\n",
            " 3\n",
            " 4\n",
            " 1\n",
            " #\n"
          ]
        },
        {
          "name": "stdout",
          "output_type": "stream",
          "text": [
            "2\n"
          ]
        }
      ],
      "source": [
        "#5 zadacha\n",
        "a = list(map(int, input().split()))\n",
        "N = 187\n",
        "d = 107\n",
        "for i in range(len(lst)):\n",
        "    x = a[i]\n",
        "    print((x**d)%N, end=' ')"
      ]
    },
    {
      "cell_type": "code",
      "source": [
        "a=2\n",
        "p=int(input())\n",
        "if p==a:\n",
        "  print ('YES')\n",
        "elif (a**(p-1)-1) % p==0:\n",
        "  print('YES')\n",
        "else:\n",
        "  print('NO')"
      ],
      "metadata": {
        "id": "EDuzvKc8k_1o"
      },
      "id": "EDuzvKc8k_1o",
      "execution_count": null,
      "outputs": []
    },
    {
      "cell_type": "code",
      "execution_count": null,
      "id": "d43a34f3-7b79-4a5b-9bb9-a050475a16e5",
      "metadata": {
        "tags": [],
        "colab": {
          "base_uri": "https://localhost:8080/"
        },
        "id": "d43a34f3-7b79-4a5b-9bb9-a050475a16e5",
        "outputId": "300ccb30-420c-4bcb-b016-7ae8c3de1daa"
      },
      "outputs": [
        {
          "output_type": "stream",
          "name": "stdout",
          "text": [
            "1\n",
            "1\n",
            "7\n",
            "9\n",
            "0\n",
            "2\n"
          ]
        }
      ],
      "source": [
        "#6 zadacha\n",
        "A = []\n",
        "count = 0\n",
        "while True:\n",
        "    a = input()\n",
        "    if a != '0':\n",
        "        A.append(int(a))\n",
        "    else:\n",
        "        break\n",
        "inf = min(A)\n",
        "for i in range(len(A)):\n",
        "    if A[i] == inf:\n",
        "        count+=1\n",
        "print(count)"
      ]
    },
    {
      "cell_type": "code",
      "source": [
        "\n",
        "x = int(input())\n",
        "maxi = int(-1)\n",
        "coun = int(0)\n",
        "while x != 0:\n",
        "    if x == maxi:\n",
        "        coun += 1\n",
        "    if x > maxi:\n",
        "        maxi = x\n",
        "        coun = int(1)\n",
        "    x = int(input())\n",
        "print(coun)\n"
      ],
      "metadata": {
        "colab": {
          "base_uri": "https://localhost:8080/"
        },
        "id": "QqShTnTnLBp_",
        "outputId": "19b6ca02-59e7-4144-aa65-f9bfb13a7054"
      },
      "id": "QqShTnTnLBp_",
      "execution_count": null,
      "outputs": [
        {
          "output_type": "stream",
          "name": "stdout",
          "text": [
            "1\n",
            "1\n",
            "7\n",
            "9\n",
            "0\n",
            "1\n"
          ]
        }
      ]
    },
    {
      "cell_type": "code",
      "execution_count": null,
      "id": "9494d23d-ee98-462d-a0d2-2de465a379f4",
      "metadata": {
        "id": "9494d23d-ee98-462d-a0d2-2de465a379f4"
      },
      "outputs": [],
      "source": [
        "#7 zadacha\n",
        "vav = input().split('.')\n",
        "number = 0\n",
        "for index, i in enumerate(vav[::-1]):\n",
        "    for j in i:\n",
        "        if j == '<':\n",
        "            number += 10 * (60 ** index)\n",
        "        elif j == 'v':\n",
        "            number += 60 ** index\n",
        "\n",
        "print(number)\n"
      ]
    },
    {
      "cell_type": "code",
      "execution_count": null,
      "id": "d12bef6d-be69-436c-a066-8771d5bd62e4",
      "metadata": {
        "id": "d12bef6d-be69-436c-a066-8771d5bd62e4"
      },
      "outputs": [],
      "source": [
        "#8 zadacha\n",
        "def cycle_shift_M(arr, N, M):\n",
        "    for i in range(M):\n",
        "        a = arr[0]\n",
        "        for i in range(N-1):\n",
        "            arr[i] = arr[i+1]\n",
        "        arr[N-1] = a\n",
        "\n",
        "\n"
      ]
    },
    {
      "cell_type": "code",
      "source": [
        "def swap(arr, k):\n",
        "    mark = []\n",
        "    for i in range(0, len(arr), 1):\n",
        "        mark.append(int(0))\n",
        "    for i in range(0, len(arr), 1):\n",
        "        if i + k < len(arr) and mark[i] == 0:\n",
        "            arr[i], arr[i + k] = arr[i + k], arr[i]\n",
        "            mark[i] = int(1)\n",
        "            mark[i + k] = int(1)\n",
        "    return arr"
      ],
      "metadata": {
        "id": "vevVfCNZcyVZ"
      },
      "id": "vevVfCNZcyVZ",
      "execution_count": null,
      "outputs": []
    },
    {
      "cell_type": "code",
      "execution_count": null,
      "id": "a17f3393-ac13-441e-92d1-5b0ee60bb044",
      "metadata": {
        "colab": {
          "base_uri": "https://localhost:8080/"
        },
        "id": "a17f3393-ac13-441e-92d1-5b0ee60bb044",
        "outputId": "74ddadd9-521b-4209-c93c-756951d57731"
      },
      "outputs": [
        {
          "output_type": "stream",
          "name": "stdout",
          "text": [
            "3\n",
            "1 2 3 4\n",
            "5 6 7 8\n",
            "9 1 2 3\n",
            "1 5 9 \n",
            "2 6 1 \n",
            "3 7 2 \n"
          ]
        }
      ],
      "source": [
        "#9 zadacha\n",
        "n = int(input())\n",
        "arr = []\n",
        "for i in range(n):\n",
        "    arr.append(list(input().split()))\n",
        "\n",
        "for i in range(n):\n",
        "    for j in range(n):\n",
        "        print(arr[j][i], end = ' ')\n",
        "    print('')"
      ]
    },
    {
      "cell_type": "code",
      "source": [
        "n = int(input())\n",
        "matr = [[0 for i in range(n)] for i in range(n)]\n",
        "for i in range(0, n, 1):\n",
        "    s = input()\n",
        "    arr = s.split()\n",
        "    for j in range(0, n, 1):\n",
        "        matr[i][j] = arr[j]\n",
        "for i in range(0, n, 1):\n",
        "    for j in range(0, n, 1):\n",
        "        print (matr[j][i], end = \" \")\n",
        "    print(\"\")"
      ],
      "metadata": {
        "colab": {
          "base_uri": "https://localhost:8080/"
        },
        "id": "JylIe5GRXu6d",
        "outputId": "ad57a099-b5a2-4115-aa7b-358f4c90bfa3"
      },
      "id": "JylIe5GRXu6d",
      "execution_count": null,
      "outputs": [
        {
          "output_type": "stream",
          "name": "stdout",
          "text": [
            "3\n",
            "1 2 3 4\n",
            "5 6 7 8\n",
            "9 10 11 12\n",
            "1 5 9 \n",
            "2 6 10 \n",
            "3 7 11 \n"
          ]
        }
      ]
    },
    {
      "cell_type": "code",
      "execution_count": null,
      "id": "45556177-a6a2-4579-9075-51ea7585e613",
      "metadata": {
        "id": "45556177-a6a2-4579-9075-51ea7585e613"
      },
      "outputs": [],
      "source": [
        "#10 zadacha\n",
        "n = int(input())\n",
        "arr = {}\n",
        "for i in range(n):\n",
        "    a = input()\n",
        "    if a not in arr:\n",
        "      arr[a] =1\n",
        "    else:\n",
        "      arr[a]+=1\n",
        "arr = sorted([(key, arr[key]) for key in arr], key = lambda x: x[1])[::-1]\n",
        "for t in arr:\n",
        "    print(t[0], t[1])"
      ]
    },
    {
      "cell_type": "code",
      "source": [
        "#10\n",
        "n = int(input())\n",
        "arr = []\n",
        "coun = []\n",
        "for i in range(0, n, 1):\n",
        "    s = input()\n",
        "    if s in arr:\n",
        "        k = arr.index(s)\n",
        "        coun[k] += 1\n",
        "    else:\n",
        "        arr.append(s)\n",
        "        coun.append(1)\n",
        "'''\n",
        "for i in range(0, len(arr), 1):\n",
        "    print(arr[i], coun[i])\n",
        "'''\n",
        "for i in range(0, len(arr), 1):\n",
        "    for j in range(0, len(arr), 1):\n",
        "        if (coun[j] == max(coun)):\n",
        "            print(arr[j])\n",
        "            arr.pop(j)\n",
        "            coun.pop(j)\n",
        "            break"
      ],
      "metadata": {
        "colab": {
          "base_uri": "https://localhost:8080/"
        },
        "id": "qWeK8Dq5ZzZr",
        "outputId": "87fac3e7-a164-4bfb-b584-e8b0a92bc8d2"
      },
      "id": "qWeK8Dq5ZzZr",
      "execution_count": null,
      "outputs": [
        {
          "output_type": "stream",
          "name": "stdout",
          "text": [
            "3\n",
            "party one\n",
            "party tree\n",
            "party two\n",
            "party one\n",
            "party tree\n",
            "party two\n"
          ]
        }
      ]
    }
  ],
  "metadata": {
    "kernelspec": {
      "display_name": "Python 3 (ipykernel)",
      "language": "python",
      "name": "python3"
    },
    "language_info": {
      "codemirror_mode": {
        "name": "ipython",
        "version": 3
      },
      "file_extension": ".py",
      "mimetype": "text/x-python",
      "name": "python",
      "nbconvert_exporter": "python",
      "pygments_lexer": "ipython3",
      "version": "3.11.5"
    },
    "colab": {
      "provenance": [],
      "include_colab_link": true
    }
  },
  "nbformat": 4,
  "nbformat_minor": 5
}